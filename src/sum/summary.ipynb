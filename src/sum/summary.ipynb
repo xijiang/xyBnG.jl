{
 "cells": [
  {
   "cell_type": "markdown",
   "id": "9316a1db",
   "metadata": {},
   "source": []
  },
  {
   "cell_type": "markdown",
   "id": "964a9c8f-1804-4456-a00b-0b6ce2981706",
   "metadata": {},
   "source": [
    "# Summary of `xyBnG` results\n",
    "\n",
    "The summaries are stored in two files. One is ``scenario.par``This is a text file about the scenario parameters. The other is a serialized `DataFrame`, called `summary.ser`. Below are example codes to retrieve the records."
   ]
  },
  {
   "cell_type": "code",
   "execution_count": null,
   "id": "488eb660-7d60-42c1-a7b4-e318d618ba97",
   "metadata": {},
   "outputs": [],
   "source": [
    "using DataFrames, Serialization, Statistics, Plots, Dates"
   ]
  },
  {
   "cell_type": "code",
   "execution_count": null,
   "id": "5e9525fd-aa3b-4d39-98f9-0ca903ba5a10",
   "metadata": {},
   "outputs": [],
   "source": [
    "dir = \"/mnt/a/store/xybng/cattle\"  # modify this to your work directory\n",
    "pars = readlines(\"$dir/scenario.par\")\n",
    "start = Dates.unix2datetime(parse(Float64, split(pars[1])[2]))\n",
    "println(\"Simulation started: $start\")\n",
    "stop, mature = begin\n",
    "    if split(pars[end])[1] == \"Ended:\"\n",
    "        Dates.unix2datetime(parse(Float64, split(pars[end])[2])), true\n",
    "    else\n",
    "        Dates.unix2datetime(mtime(\"$dir/summary.ser\")), false\n",
    "    end\n",
    "end\n",
    "println(\"Simulation finised: $stop\")\n",
    "println()\n",
    "if mature\n",
    "    print(join(pars[2:end-1], '\\n'))\n",
    "else\n",
    "    print(join(pars[2:end], '\\n'))\n",
    "end"
   ]
  },
  {
   "cell_type": "code",
   "execution_count": null,
   "id": "83ddcb0e-38ef-48ed-982e-d6ad02c668d8",
   "metadata": {},
   "outputs": [],
   "source": [
    "rst = deserialize(\"$dir/summary.ser\")\n",
    "describe(rst)"
   ]
  },
  {
   "cell_type": "code",
   "execution_count": null,
   "id": "c85da317-b2ba-4e01-a47b-c231dfc820be",
   "metadata": {},
   "outputs": [],
   "source": [
    "# What schemes used in the simulatino\n",
    "schemes = unique(rst.scheme)"
   ]
  },
  {
   "cell_type": "code",
   "execution_count": null,
   "id": "0b058080-79c7-4863-9e0d-8d8b3e54c6a5",
   "metadata": {},
   "outputs": [],
   "source": [
    "dic = Dict{String, DataFrame}()\n",
    "for scheme in schemes\n",
    "    dic[scheme] = select(filter(x -> x.scheme == scheme, rst), Not(:scheme))\n",
    "end"
   ]
  },
  {
   "cell_type": "code",
   "execution_count": null,
   "id": "6751f3e3-8b90-4d14-88d4-cf30e99de66f",
   "metadata": {},
   "outputs": [],
   "source": [
    "# The mean of each generation over repeats\n",
    "combine(groupby(dic[\"aaocs\"], :grt), Not(:repeat) .=> mean .=> Not(:repeat))\n",
    "# replace mean to var, you get variances\n",
    "# similar results can be obtained on other schemes\n",
    "# plots to be added"
   ]
  }
 ],
 "metadata": {
  "kernelspec": {
   "display_name": "Julia 1.10.4",
   "language": "julia",
   "name": "julia-1.10"
  },
  "language_info": {
   "file_extension": ".jl",
   "mimetype": "application/julia",
   "name": "julia",
   "version": "1.10.4"
  }
 },
 "nbformat": 4,
 "nbformat_minor": 5
}
