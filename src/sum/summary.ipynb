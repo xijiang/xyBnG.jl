{
 "cells": [
  {
   "cell_type": "markdown",
   "id": "964a9c8f-1804-4456-a00b-0b6ce2981706",
   "metadata": {},
   "source": [
    "# Summary of `xyBnG` results\n",
    "\n",
    "The summaries are stored in two files. One is ``scenario.par``This is a text file about the scenario parameters. The other is a serialized `DataFrame`, called `summary.ser`. Below "
   ]
  },
  {
   "cell_type": "code",
   "execution_count": null,
   "id": "5e9525fd-aa3b-4d39-98f9-0ca903ba5a10",
   "metadata": {},
   "outputs": [],
   "source": []
  }
 ],
 "metadata": {
  "kernelspec": {
   "display_name": "Julia 1.10.4",
   "language": "julia",
   "name": "julia-1.10"
  },
  "language_info": {
   "file_extension": ".jl",
   "mimetype": "application/julia",
   "name": "julia",
   "version": "1.10.4"
  }
 },
 "nbformat": 4,
 "nbformat_minor": 5
}
