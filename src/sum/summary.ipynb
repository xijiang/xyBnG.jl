{
 "cells": [
  {
   "cell_type": "markdown",
   "id": "964a9c8f-1804-4456-a00b-0b6ce2981706",
   "metadata": {},
   "source": [
    "# Summary of `xyBnG` results\n",
    "\n",
    "The summaries are stored in two files. One is ``scenario.par``This is a text file about the scenario parameters. The other is a serialized `DataFrame`, called `summary.ser`. Below are example codes to retrieve the records."
   ]
  },
  {
   "cell_type": "code",
   "execution_count": null,
   "id": "488eb660-7d60-42c1-a7b4-e318d618ba97",
   "metadata": {},
   "outputs": [],
   "source": [
    "using DataFrames, Serialization, Statistics, Plots, Dates"
   ]
  },
  {
   "cell_type": "code",
   "execution_count": null,
   "id": "5e9525fd-aa3b-4d39-98f9-0ca903ba5a10",
   "metadata": {},
   "outputs": [],
   "source": [
    "dir = \".\"  # modify this to your work directory\n",
    "pars = readlines(\"$dir/scenario.par\")\n",
    "start = Dates.unix2datetime(parse(Float64, split(pars[1])[2]))\n",
    "println(\"Simulation started: $start\")\n",
    "stop, mature = begin\n",
    "    if split(pars[end])[1] == \"Ended:\"\n",
    "        Dates.unix2datetime(parse(Float64, split(pars[end])[2])), true\n",
    "    else\n",
    "        println(\"Simulation was not finised.\")\n",
    "        Dates.unix2datetime(mtime(\"$dir/summary.ser\")), false\n",
    "    end\n",
    "end\n",
    "println(\"Simulation finised: $stop\")\n",
    "println()\n",
    "if mature\n",
    "    print(join(pars[2:end-1], '\\n'))\n",
    "else\n",
    "    print(join(pars[2:end], '\\n'))\n",
    "end"
   ]
  },
  {
   "cell_type": "code",
   "execution_count": null,
   "id": "83ddcb0e-38ef-48ed-982e-d6ad02c668d8",
   "metadata": {},
   "outputs": [],
   "source": [
    "rst = deserialize(\"$dir/summary.ser\")\n",
    "describe(rst)"
   ]
  },
  {
   "cell_type": "code",
   "execution_count": null,
   "id": "c85da317-b2ba-4e01-a47b-c231dfc820be",
   "metadata": {},
   "outputs": [],
   "source": [
    "# What schemes used in the simulatino\n",
    "schemes = unique(rst.scheme)"
   ]
  },
  {
   "cell_type": "code",
   "execution_count": null,
   "id": "0b058080-79c7-4863-9e0d-8d8b3e54c6a5",
   "metadata": {},
   "outputs": [],
   "source": [
    "dic = Dict{String,DataFrame}()\n",
    "mmm = Dict{String,DataFrame}()\n",
    "for scheme in schemes\n",
    "    dic[scheme] = select(filter(x -> x.scheme == scheme, rst), Not(:scheme))\n",
    "    mmm[scheme] = combine(groupby(dic[scheme], :grt), Not(:repeat) .=> mean .=> Not(:repeat))\n",
    "    mmm[scheme][!, :ceiling] *= 2\n",
    "    mmm[scheme][!, :floor] *= 2\n",
    "end\n",
    "describe(mmm[\"aaocs\"])"
   ]
  },
  {
   "cell_type": "code",
   "execution_count": null,
   "id": "6751f3e3-8b90-4d14-88d4-cf30e99de66f",
   "metadata": {},
   "outputs": [],
   "source": [
    "function sumplot(ddf, ss, lbl, par...; pos=:best)\n",
    "    c = 1\n",
    "    ls = (:solid, :dash, :dashdot, :dashdotdot, :dot)\n",
    "    p = plot(xlabel=\"Generation\", ylabel=lbl, legend=pos)\n",
    "    for s in ss\n",
    "        df = ddf[s]\n",
    "        l = 1\n",
    "        for y in par\n",
    "            plot!(p, df[!, :grt] .- 5, df[!, y], label=s * '-' * y, color=c, linestyle=ls[l])\n",
    "            l += 1\n",
    "            l > 5 && (l = 1)\n",
    "        end\n",
    "        c += 1\n",
    "    end\n",
    "    p\n",
    "end"
   ]
  },
  {
   "cell_type": "code",
   "execution_count": null,
   "id": "882004cb",
   "metadata": {},
   "outputs": [],
   "source": [
    "ss = (\"ggocs\", \"iiocs\", \"agocs\", \"gblup\")"
   ]
  },
  {
   "cell_type": "code",
   "execution_count": null,
   "id": "e3d91f96",
   "metadata": {},
   "outputs": [],
   "source": [
    "sumplot(mmm, ss, \"N parents\", \"nsire\", \"ndam\")"
   ]
  },
  {
   "cell_type": "code",
   "execution_count": null,
   "id": "94eaf846",
   "metadata": {},
   "outputs": [],
   "source": [
    "sumplot(mmm, ss, \"TBV\", \"mtbv\")"
   ]
  },
  {
   "cell_type": "code",
   "execution_count": null,
   "id": "4c283f75",
   "metadata": {},
   "outputs": [],
   "source": [
    "sumplot(mmm, ss, \"Boundaries\", \"floor\", \"ceiling\"; pos=:left)"
   ]
  },
  {
   "cell_type": "code",
   "execution_count": null,
   "id": "4a95fdc3",
   "metadata": {},
   "outputs": [],
   "source": [
    "sumplot(mmm, [\"ggocs\"], \"Inbreeding\", \"fibd\", \"fped\", \"fhet\", \"fdrift\")"
   ]
  },
  {
   "cell_type": "code",
   "execution_count": null,
   "id": "10d5f761",
   "metadata": {},
   "outputs": [],
   "source": [
    "sumplot(mmm, ss, \"Var(TBV)\", \"vtbv\", \"genicv\")"
   ]
  },
  {
   "cell_type": "code",
   "execution_count": null,
   "id": "5f42486f",
   "metadata": {},
   "outputs": [],
   "source": [
    "sumplot(mmm, ss, \"QTL lost\", \"xfq\", \"xuq\")"
   ]
  },
  {
   "cell_type": "code",
   "execution_count": null,
   "id": "01918e85",
   "metadata": {},
   "outputs": [],
   "source": [
    "sumplot(mmm, ss, \"Loci fixed\", \"xref\", \"xqtl\")"
   ]
  },
  {
   "cell_type": "code",
   "execution_count": null,
   "id": "aa17f967",
   "metadata": {},
   "outputs": [],
   "source": [
    "sumplot(mmm, ss, \"Δq vs q0\", \"covdq\", \"covdq2\")"
   ]
  }
 ],
 "metadata": {
  "kernelspec": {
   "display_name": "Julia 1.10.4",
   "language": "julia",
   "name": "julia-1.10"
  },
  "language_info": {
   "file_extension": ".jl",
   "mimetype": "application/julia",
   "name": "julia",
   "version": "1.10.4"
  }
 },
 "nbformat": 4,
 "nbformat_minor": 5
}
